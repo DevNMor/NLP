{
 "cells": [
  {
   "cell_type": "code",
   "execution_count": 1,
   "id": "a95c38a9",
   "metadata": {},
   "outputs": [],
   "source": [
    "import pandas as pd\n",
    "import numpy as np\n",
    "import re\n",
    "import string\n",
    "import nltk\n",
    "import time"
   ]
  },
  {
   "cell_type": "code",
   "execution_count": 22,
   "id": "91d50e4f",
   "metadata": {},
   "outputs": [
    {
     "name": "stdout",
     "output_type": "stream",
     "text": [
      "The keyword requires expanding is: biofuels\n"
     ]
    }
   ],
   "source": [
    "df = pd.read_csv('new_words.csv')\n",
    "df = df[df.sim>0.6]\n",
    "s_word = nltk.corpus.stopwords.words('english')\n",
    "seed = input('The keyword requires expanding is: ')"
   ]
  },
  {
   "cell_type": "code",
   "execution_count": 24,
   "id": "5fae3293",
   "metadata": {},
   "outputs": [
    {
     "name": "stdout",
     "output_type": "stream",
     "text": [
      "0.06772065162658691\n"
     ]
    }
   ],
   "source": [
    "df1 = df[df.w1 == seed].sort_values(by='sim', ascending=False).reset_index(drop=True)\n",
    "cand = list(df1.w2[:500])\n",
    "\n",
    "t1 = time.time()\n",
    "## Basic cleaning\n",
    "\n",
    "word_list = [re.findall(r\"[a-zA-Z].*[a-zA-Z0-9]\", i)[0] for i in cand\n",
    "             if re.findall(r\"[a-zA-Z].*[a-zA-Z0-9]\", i)]\n",
    "\n",
    "word_list = list(set(word_list))\n",
    "\n",
    "word_list = [i for i in word_list if len(re.findall(r\"[a-zA-Z]+\", i))>1 and len(re.findall(r\"[a-zA-Z]+\", i)[-1])>1\n",
    "             and not (re.findall(r\"[a-zA-Z0-9]+\", i)[0] in s_word or re.findall(r\"[a-zA-Z0-9]+\", i)[-1] \n",
    "                      in s_word or re.findall(r\"[^a-zA-Z0-9 ]+\", i))]\n",
    "\n",
    "## Integrate keywords containing same phrases\n",
    "\n",
    "fin3 = []\n",
    "for i in range(len(word_list)-1):\n",
    "    fin3.append([word_list[i]])\n",
    "    for j in word_list[i+1:]:\n",
    "        if word_list[i] in j:\n",
    "            fin3[i].append(j)\n",
    "\n",
    "idx = []\n",
    "for i in range(len(fin3)-1):\n",
    "    idx.append([i])\n",
    "    for j in range(i+1, len(fin3)):\n",
    "        if set(fin3[i]) - set(fin3[j]) != set(fin3[i]):\n",
    "            idx[i].append(j)\n",
    "idx.append([len(fin3)-1])\n",
    "\n",
    "new_idx = idx[:]\n",
    "old = 0\n",
    "new = 1\n",
    "while new != old:\n",
    "    old = list(map(set, new_idx))\n",
    "    new = list(map(set, new_idx))\n",
    "    for i in range(len(new_idx)):\n",
    "        if len(new_idx[i])>1:\n",
    "            for j in new_idx[i][1:]:\n",
    "                new[i].update(new[j])\n",
    "                new[j] = set()     \n",
    "    new_idx = list(map(list, new))\n",
    "\n",
    "fin = list(map(set, fin3))\n",
    "for i in range(len(new_idx)):\n",
    "    if len(new_idx[i])>1:\n",
    "        for j in new_idx[i][1:]:\n",
    "            fin[i].update(fin[j])\n",
    "            fin[j] = set()\n",
    "\n",
    "fin = list(map(list, fin))\n",
    "fin = [i for i in fin if i]\n",
    "\n",
    "t2 = time.time()\n",
    "print(t2-t1)"
   ]
  },
  {
   "cell_type": "code",
   "execution_count": 26,
   "id": "358c46cb",
   "metadata": {},
   "outputs": [],
   "source": [
    "pd.DataFrame(fin).to_csv(seed+'.csv')"
   ]
  },
  {
   "cell_type": "code",
   "execution_count": null,
   "id": "26e37b04",
   "metadata": {},
   "outputs": [],
   "source": []
  }
 ],
 "metadata": {
  "kernelspec": {
   "display_name": "Python 3 (ipykernel)",
   "language": "python",
   "name": "python3"
  },
  "language_info": {
   "codemirror_mode": {
    "name": "ipython",
    "version": 3
   },
   "file_extension": ".py",
   "mimetype": "text/x-python",
   "name": "python",
   "nbconvert_exporter": "python",
   "pygments_lexer": "ipython3",
   "version": "3.9.7"
  }
 },
 "nbformat": 4,
 "nbformat_minor": 5
}
